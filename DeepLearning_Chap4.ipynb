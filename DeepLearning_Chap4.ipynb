{
  "nbformat": 4,
  "nbformat_minor": 0,
  "metadata": {
    "colab": {
      "provenance": [],
      "collapsed_sections": [],
      "authorship_tag": "ABX9TyNKF1LX+yV0eGSA2Z36dsU/",
      "include_colab_link": true
    },
    "kernelspec": {
      "name": "python3",
      "display_name": "Python 3"
    },
    "language_info": {
      "name": "python"
    }
  },
  "cells": [
    {
      "cell_type": "markdown",
      "metadata": {
        "id": "view-in-github",
        "colab_type": "text"
      },
      "source": [
        "<a href=\"https://colab.research.google.com/github/YangHeewoong/DeepLearning_Basic/blob/main/DeepLearning_Chap4.ipynb\" target=\"_parent\"><img src=\"https://colab.research.google.com/assets/colab-badge.svg\" alt=\"Open In Colab\"/></a>"
      ]
    },
    {
      "cell_type": "markdown",
      "source": [
        "## 1. Loss Fucntion(손실 함수)"
      ],
      "metadata": {
        "id": "kJUa4rIH8vPr"
      }
    },
    {
      "cell_type": "markdown",
      "source": [
        "### 1.1 Sum of squares for error _ SSE(오차제곱합)"
      ],
      "metadata": {
        "id": "_31u49YZ9oUP"
      }
    },
    {
      "cell_type": "code",
      "execution_count": 1,
      "metadata": {
        "colab": {
          "base_uri": "https://localhost:8080/"
        },
        "id": "8JmdqwXF2lO7",
        "outputId": "33e1d417-9ca5-43c2-a1aa-56d6a041b9e6"
      },
      "outputs": [
        {
          "output_type": "stream",
          "name": "stdout",
          "text": [
            "first : 0.09750000000000003\n",
            "first : 0.5975\n"
          ]
        }
      ],
      "source": [
        "import numpy as np\n",
        "\n",
        "def sum_squares_error(y, t) :\n",
        "  return 0.5 * np.sum((y-t)**2)\n",
        "\n",
        "# correct answer = 2\n",
        "t = [0, 0, 1, 0, 0, 0, 0, 0, 0, 0]\n",
        "\n",
        "# if answer = 2\n",
        "y = [.1, .05, .6, .0, .05, .1, .0, .1, .0, .0]\n",
        "i = sum_squares_error(np.array(y), np.array(t))\n",
        "\n",
        "# if answer = 7\n",
        "y = [.1, .05, .1, .0, .05, .1, .0, .6, .0, .0]\n",
        "j = sum_squares_error(np.array(y), np.array(t))\n",
        "\n",
        "print('first : {}'.format(i))\n",
        "print('first : {}'.format(j))"
      ]
    },
    {
      "cell_type": "markdown",
      "source": [
        "### 1.2 Cross entropy error _ CEE(교차 엔트로피 오차)"
      ],
      "metadata": {
        "id": "uDX0F8ip-pSP"
      }
    },
    {
      "cell_type": "code",
      "source": [
        "import numpy as np\n",
        "\n",
        "def cross_entropy_error(y, t) :\n",
        "  delta = 1e-7\n",
        "  return -np.sum(t * np.log(y + delta))\n",
        "\n",
        "# correct answer = 2\n",
        "t = [0, 0, 1, 0, 0, 0, 0, 0, 0, 0]\n",
        "\n",
        "# if answer = 2\n",
        "y = [.1, .05, .6, .0, .05, .1, .0, .1, .0, .0]\n",
        "i = cross_entropy_error(np.array(y), np.array(t))\n",
        "\n",
        "# if answer = 7\n",
        "y = [.1, .05, .1, .0, .05, .1, .0, .6, .0, .0]\n",
        "j = cross_entropy_error(np.array(y), np.array(t))\n",
        "\n",
        "print('first : {}'.format(i))\n",
        "print('first : {}'.format(j))"
      ],
      "metadata": {
        "colab": {
          "base_uri": "https://localhost:8080/"
        },
        "id": "-Dg5wwar-kEM",
        "outputId": "828f2bdf-3bb7-46d2-b6be-b330741d38ff"
      },
      "execution_count": 2,
      "outputs": [
        {
          "output_type": "stream",
          "name": "stdout",
          "text": [
            "first : 0.510825457099338\n",
            "first : 2.302584092994546\n"
          ]
        }
      ]
    },
    {
      "cell_type": "code",
      "source": [],
      "metadata": {
        "id": "6PxTImGZ_BmK"
      },
      "execution_count": null,
      "outputs": []
    }
  ]
}
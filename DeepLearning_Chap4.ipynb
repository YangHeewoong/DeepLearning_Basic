{
  "nbformat": 4,
  "nbformat_minor": 0,
  "metadata": {
    "colab": {
      "provenance": [],
      "collapsed_sections": [],
      "authorship_tag": "ABX9TyMkVJgHkY0tAcUpQjQnRYm4",
      "include_colab_link": true
    },
    "kernelspec": {
      "name": "python3",
      "display_name": "Python 3"
    },
    "language_info": {
      "name": "python"
    }
  },
  "cells": [
    {
      "cell_type": "markdown",
      "metadata": {
        "id": "view-in-github",
        "colab_type": "text"
      },
      "source": [
        "<a href=\"https://colab.research.google.com/github/YangHeewoong/DeepLearning_Basic/blob/main/DeepLearning_Chap4.ipynb\" target=\"_parent\"><img src=\"https://colab.research.google.com/assets/colab-badge.svg\" alt=\"Open In Colab\"/></a>"
      ]
    },
    {
      "cell_type": "markdown",
      "source": [
        "## 1. Loss Fucntion(손실 함수)"
      ],
      "metadata": {
        "id": "kJUa4rIH8vPr"
      }
    },
    {
      "cell_type": "markdown",
      "source": [
        "### 1.1 Sum of squares for error _ SSE(오차제곱합)"
      ],
      "metadata": {
        "id": "_31u49YZ9oUP"
      }
    },
    {
      "cell_type": "code",
      "execution_count": null,
      "metadata": {
        "colab": {
          "base_uri": "https://localhost:8080/"
        },
        "id": "8JmdqwXF2lO7",
        "outputId": "33e1d417-9ca5-43c2-a1aa-56d6a041b9e6"
      },
      "outputs": [
        {
          "output_type": "stream",
          "name": "stdout",
          "text": [
            "first : 0.09750000000000003\n",
            "first : 0.5975\n"
          ]
        }
      ],
      "source": [
        "import numpy as np\n",
        "\n",
        "def sum_squares_error(y, t) :\n",
        "  return 0.5 * np.sum((y-t)**2)\n",
        "\n",
        "# correct answer = 2\n",
        "t = [0, 0, 1, 0, 0, 0, 0, 0, 0, 0]\n",
        "\n",
        "# if answer = 2\n",
        "y = [.1, .05, .6, .0, .05, .1, .0, .1, .0, .0]\n",
        "i = sum_squares_error(np.array(y), np.array(t))\n",
        "\n",
        "# if answer = 7\n",
        "y = [.1, .05, .1, .0, .05, .1, .0, .6, .0, .0]\n",
        "j = sum_squares_error(np.array(y), np.array(t))\n",
        "\n",
        "print('first : {}'.format(i))\n",
        "print('first : {}'.format(j))"
      ]
    },
    {
      "cell_type": "markdown",
      "source": [
        "### 1.2 Cross entropy error _ CEE(교차 엔트로피 오차)"
      ],
      "metadata": {
        "id": "uDX0F8ip-pSP"
      }
    },
    {
      "cell_type": "code",
      "source": [
        "import numpy as np\n",
        "\n",
        "def cross_entropy_error(y, t) :\n",
        "  delta = 1e-7\n",
        "  return -np.sum(t * np.log(y + delta))\n",
        "\n",
        "# correct answer = 2\n",
        "t = [0, 0, 1, 0, 0, 0, 0, 0, 0, 0]\n",
        "\n",
        "# if answer = 2\n",
        "y = [.1, .05, .6, .0, .05, .1, .0, .1, .0, .0]\n",
        "i = cross_entropy_error(np.array(y), np.array(t))\n",
        "\n",
        "# if answer = 7\n",
        "y = [.1, .05, .1, .0, .05, .1, .0, .6, .0, .0]\n",
        "j = cross_entropy_error(np.array(y), np.array(t))\n",
        "\n",
        "print('first : {}'.format(i))\n",
        "print('first : {}'.format(j))"
      ],
      "metadata": {
        "colab": {
          "base_uri": "https://localhost:8080/"
        },
        "id": "-Dg5wwar-kEM",
        "outputId": "828f2bdf-3bb7-46d2-b6be-b330741d38ff"
      },
      "execution_count": null,
      "outputs": [
        {
          "output_type": "stream",
          "name": "stdout",
          "text": [
            "first : 0.510825457099338\n",
            "first : 2.302584092994546\n"
          ]
        }
      ]
    },
    {
      "cell_type": "markdown",
      "source": [
        "## 2. Mini Batch Learning(미니배치 학습)"
      ],
      "metadata": {
        "id": "YL8GvJt2E0Rq"
      }
    },
    {
      "cell_type": "markdown",
      "source": [
        "#### numpy의 random.choice 함수를 이용해 랜덤으로 batch_size 만큼의 데이터를 선택할 수 있다"
      ],
      "metadata": {
        "id": "-y0ssszlFpXJ"
      }
    },
    {
      "cell_type": "code",
      "source": [
        "import sys, os\n",
        "sys.path.append(os.pardir)\n",
        "import numpy as np\n",
        "from dataset.mnist import load_mnist\n",
        "\n",
        "(x_train, t_train), (x_test, t_test) = load_mnist(normalize=True, one_hot_label=True)\n",
        "\n",
        "train_size = x_train.shape[0]\n",
        "batch_size = 10\n",
        "batch_mask = np.random.choice(train_size, batch_size)\n",
        "\n",
        "x_batch = x_tarin(batch_mask)\n",
        "t_batch = t_train(batch_mask)\n",
        "\n",
        "print('shape of x_train :{}'.format(x_train.shape)) #(60000, 784)\n",
        "print('shape of t_train :{}'.format(t_train.shape)) #(60000, 10)\n",
        "print('shape of x_batch :{}'.format(x_batch.shape)) #(10, 784)\n",
        "print('shape of t_batch :{}'.format(t_batch.shape)) #(10, 10)"
      ],
      "metadata": {
        "id": "6PxTImGZ_BmK"
      },
      "execution_count": null,
      "outputs": []
    },
    {
      "cell_type": "markdown",
      "source": [
        "#### 손실함수를 구하는 방식은 두 가지가 있다.\n",
        "####cross_entropy_onehot : 원핫인코딩으로 레이블링 되어있는 경우\n",
        "####cross_entropy_error : 정답의 값으로 레이블링 되어있는 경우"
      ],
      "metadata": {
        "id": "SKk6AVjwGssC"
      }
    },
    {
      "cell_type": "code",
      "source": [
        "import numpy as np\n",
        "\n",
        "def cross_entropy_onehot(y, t) :\n",
        "  if y.ndim == 1 :\n",
        "    t = t.reshape(1, t.size)\n",
        "    y = y.reshape(1, y.size)\n",
        "  batch_size = y.shape[0]\n",
        "  return -np.sum(t * np.log(y + 1e-7)) / batch_size\n",
        "\n",
        "\n",
        "def cross_entropy_error(y, t) :\n",
        "  if y.ndim == 1 :\n",
        "    t = t.reshape(1, t.size)\n",
        "    y = y.reshape(1, y.size)\n",
        "  batch_size = y.shape[0]\n",
        "  return -np.sum(np.log(y[np.arange(batch_size), t] + 1e-7)) / batch_size\n",
        "\n",
        "\n",
        "t = [[0,0,1,0,0,0,0,0,0,0], # 원핫인코딩으로 레이블링 되어있는 경우\n",
        "     [0,1,0,0,0,0,0,0,0,0],\n",
        "     [0,0,1,0,0,0,0,0,0,0]]\n",
        "t2 = [2,1,2] # 정답의 값으로 레이블링 되어있는 경우\n",
        "y = [[.1, .05, .6, .0, .05, .1, .0, .1, .0, .0],\n",
        "     [.1, .6, .0, .05, .0, .1, .1, .0, .0, .05],\n",
        "     [.0, .05, .6, .1, .1, .0, .05, .0, .1, .0]]\n",
        "i = cross_entropy_onehot(np.array(y), np.array(t))\n",
        "j = cross_entropy_error(np.array(y), np.array(t2))\n",
        "\n",
        "print('one-hot encoding : {}'.format(i))\n",
        "print('number label : {}'.format(j))"
      ],
      "metadata": {
        "colab": {
          "base_uri": "https://localhost:8080/"
        },
        "id": "9Wc-lhnnHBOU",
        "outputId": "f8d0d7da-ce67-47c3-94e7-b7b2893e5796"
      },
      "execution_count": 2,
      "outputs": [
        {
          "output_type": "stream",
          "name": "stdout",
          "text": [
            "one-hot encoding : 0.510825457099338\n",
            "number label : 0.510825457099338\n"
          ]
        }
      ]
    },
    {
      "cell_type": "markdown",
      "source": [
        "##### Quiz. 미니배치는 전체 데이터의 일부를 사용한다. 미니배치를 사용하는 장점은 계산 속도(효율적으로 GPU & CPU 사용하기 때문)가 빠르다는 것 외에 또 무엇이 있을까?"
      ],
      "metadata": {
        "id": "OCmSMpUCJ4cm"
      }
    },
    {
      "cell_type": "markdown",
      "source": [
        "## 3. Numerical Differentiation (수치미분)"
      ],
      "metadata": {
        "id": "zOqDwAapcUaD"
      }
    },
    {
      "cell_type": "markdown",
      "source": [
        "### 3.1 미분의 나쁜 구현"
      ],
      "metadata": {
        "id": "rNG1ULtPcdHm"
      }
    },
    {
      "cell_type": "code",
      "source": [
        "def numberical_diff(f, x) :\n",
        "  h = 1e-50\n",
        "  return (f(x + h) - f(x)) / h"
      ],
      "metadata": {
        "id": "yHz7wySyJZRB"
      },
      "execution_count": null,
      "outputs": []
    },
    {
      "cell_type": "markdown",
      "source": [
        "### 3.2 중심 차분(중앙 차분)"
      ],
      "metadata": {
        "id": "CwbOC5hWdCkm"
      }
    },
    {
      "cell_type": "code",
      "source": [
        "def central_diff(f, x) :\n",
        "  h = 1e-4\n",
        "  return (f(x + h) - f(x - h)) / (2*h)"
      ],
      "metadata": {
        "id": "s6FPHAYwcTMr"
      },
      "execution_count": 13,
      "outputs": []
    },
    {
      "cell_type": "markdown",
      "source": [
        "### 3.3 Example of Numerical Differntiation (수치미분의 예)\n",
        "#### y = 0.01x^2 + 0.1x의 미분 구하기 & x=5, x=10에서의 접선 기울기 구하기 & 어떤 방식이 오차가 적은가"
      ],
      "metadata": {
        "id": "-wF573-odkx1"
      }
    },
    {
      "cell_type": "code",
      "source": [
        "import numpy as np\n",
        "import matplotlib.pyplot as plt\n",
        "\n",
        "\n",
        "# 전방 미분\n",
        "def forward_diff(f, x) :\n",
        "  h = 1e-4\n",
        "  return (f(x + h) - f(x)) / h\n",
        "\n",
        "\n",
        "# 중앙 미분(중심 차분)\n",
        "def central_diff(f, x) :\n",
        "  h = 1e-4\n",
        "  return (f(x + h) - f(x - h)) / (2*h)\n",
        "\n",
        "\n",
        "def function_1 (x) :\n",
        "  return 0.01*x**2 + 0.1*x\n",
        "\n",
        "\n",
        "x = np.arange(0.0, 20.0, 0.1)\n",
        "y = function(x)\n",
        "plt.xlabel('x')\n",
        "plt.ylabel('y')\n",
        "plt.plot(x,y)\n",
        "plt.legend()\n",
        "plt.show()\n",
        "\n",
        "\n",
        "'''전방 미분''' \n",
        "print('<전방미분>')\n",
        "# x=5 일때 접선 기울기\n",
        "print('x=5 일때 접선 기울기 : {}'.format(forward_diff(function_1, 5)))\n",
        "\n",
        "# x=10 일때 접선 기울기\n",
        "print('x=10 일때 접선 기울기 : {}\\n'.format(forward_diff(function_1, 10)))\n",
        "\n",
        "\n",
        "'''중앙 미분''' \n",
        "print('<중앙미분>')\n",
        "# x=5 일때 접선 기울기\n",
        "print('x=5 일때 접선 기울기 : {}'.format(central_diff(function_1, 5)))\n",
        "\n",
        "# x=10 일때 접선 기울기\n",
        "print('x=10 일때 접선 기울기 : {}'.format(central_diff(function_1, 10)))"
      ],
      "metadata": {
        "colab": {
          "base_uri": "https://localhost:8080/",
          "height": 426
        },
        "id": "N0mxi8hydqj0",
        "outputId": "628bb433-6985-4bcb-897d-f15cd4f86080"
      },
      "execution_count": 26,
      "outputs": [
        {
          "output_type": "stream",
          "name": "stderr",
          "text": [
            "WARNING:matplotlib.legend:No handles with labels found to put in legend.\n"
          ]
        },
        {
          "output_type": "display_data",
          "data": {
            "text/plain": [
              "<Figure size 432x288 with 1 Axes>"
            ],
            "image/png": "[encoded data removed]"
          },
          "metadata": {
            "needs_background": "light"
          }
        },
        {
          "output_type": "stream",
          "name": "stdout",
          "text": [
            "<전방미분>\n",
            "x=5 일때 접선 기울기 : 0.20000099999917254\n",
            "x=10 일때 접선 기울기 : 0.3000009999976072\n",
            "\n",
            "<중앙미분>\n",
            "x=5 일때 접선 기울기 : 0.1999999999990898\n",
            "x=10 일때 접선 기울기 : 0.2999999999986347\n"
          ]
        }
      ]
    },
    {
      "cell_type": "markdown",
      "source": [
        "#### 중앙 미분으로 계산하였을 때, 오차가 더 적었다"
      ],
      "metadata": {
        "id": "JUp9GCBziG9K"
      }
    },
    {
      "cell_type": "markdown",
      "source": [
        "## 4. Partial Differentiation(편미분)"
      ],
      "metadata": {
        "id": "oCfosh4NjM7j"
      }
    },
    {
      "cell_type": "code",
      "source": [
        "def central_diff(f, x) :\n",
        "  h = 1e-4\n",
        "  return (f(x + h) - f(x - h)) / (2*h)\n",
        "\n",
        "\n",
        "# x[0]^2 + x[1]^2 형태\n",
        "def function_2 (x) :\n",
        "  return x[0]**2 + x[1]**2  # 또는 return np.sum(x**2)\n",
        "\n",
        "\n",
        "# x[0]=3, x[1]=4 일때 x[0]에 대한 편미분\n",
        "'''\n",
        "def function_2_tmp0 (x) :\n",
        "  return x[0]**2 + 4*2\n",
        "'''\n",
        "def function_2_tmp0 (x0) :\n",
        "  return x0*x0 + 4.0**2.0\n",
        "\n",
        "\n",
        "# x[0]=3, x[1]=4 일때 x[1]에 대한 편미분\n",
        "'''\n",
        "def function_2_tmp1 (x) :\n",
        "  return 3*2 + x[1]**2\n",
        "'''\n",
        "def function_2_tmp1 (x1) :\n",
        "  return 3.0**2.0 + x1*x1\n",
        "\n",
        "\n",
        "print(central_diff(function_2_tmp0, 3.0))\n",
        "print(central_diff(function_2_tmp1, 4.0))"
      ],
      "metadata": {
        "colab": {
          "base_uri": "https://localhost:8080/"
        },
        "id": "07l7AyybeOLS",
        "outputId": "3f3e91c1-484d-4e4c-c3e4-26a87dfae048"
      },
      "execution_count": 10,
      "outputs": [
        {
          "output_type": "stream",
          "name": "stdout",
          "text": [
            "6.00000000000378\n",
            "7.999999999999119\n"
          ]
        }
      ]
    },
    {
      "cell_type": "code",
      "source": [
        "import numpy as np\n",
        "\n",
        "\n",
        "def function_2 (x) :\n",
        "  return x[0]**2 + x[1]**2\n",
        "\n",
        "\n",
        "def numerical_gradient(f, x) :\n",
        "  h = 1e-4\n",
        "  grad = np.zeros_like(x) # x와 형상이 같은 배열 생성\n",
        "\n",
        "  for idx in range(x.size) :\n",
        "    tmp_val = x[idx]\n",
        "    \n",
        "    # f(x+h) 계산\n",
        "    x[idx] = tmp_val + h\n",
        "    fxh1 = f(x)\n",
        "    \n",
        "    # f(x-h) 계산\n",
        "    x[idx] = tmp_val - h\n",
        "    fxh2 = f(x)\n",
        "\n",
        "    grad[idx] = (fxh1 - fxh2) / (2*h)\n",
        "    x[idx] = tmp_val #값 복원\n",
        "\n",
        "  return grad\n",
        "\n",
        "\n",
        "print(numerical_gradient(function_2, np.array([3.0, 4.0])))\n",
        "print(numerical_gradient(function_2, np.array([0.0, 2.0])))\n",
        "print(numerical_gradient(function_2, np.array([3.0, 0.0])))"
      ],
      "metadata": {
        "colab": {
          "base_uri": "https://localhost:8080/"
        },
        "id": "xBsCO3iEeuvg",
        "outputId": "06343af5-164d-462c-8b63-9a69c4566f55"
      },
      "execution_count": 12,
      "outputs": [
        {
          "output_type": "stream",
          "name": "stdout",
          "text": [
            "[6. 8.]\n",
            "[0. 4.]\n",
            "[6. 0.]\n"
          ]
        }
      ]
    },
    {
      "cell_type": "code",
      "source": [],
      "metadata": {
        "id": "LQm8QxxVoGe4"
      },
      "execution_count": null,
      "outputs": []
    }
  ]
}
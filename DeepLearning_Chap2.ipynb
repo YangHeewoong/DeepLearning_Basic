{
  "nbformat": 4,
  "nbformat_minor": 0,
  "metadata": {
    "colab": {
      "provenance": [],
      "collapsed_sections": [],
      "authorship_tag": "ABX9TyMqgU+e/Yz5ZWw24ZlEcFZO",
      "include_colab_link": true
    },
    "kernelspec": {
      "name": "python3",
      "display_name": "Python 3"
    },
    "language_info": {
      "name": "python"
    }
  },
  "cells": [
    {
      "cell_type": "markdown",
      "metadata": {
        "id": "view-in-github",
        "colab_type": "text"
      },
      "source": [
        "<a href=\"https://colab.research.google.com/github/YangHeewoong/DeepLearning_Basic/blob/main/DeepLearning_Chap2.ipynb\" target=\"_parent\"><img src=\"https://colab.research.google.com/assets/colab-badge.svg\" alt=\"Open In Colab\"/></a>"
      ]
    },
    {
      "cell_type": "markdown",
      "source": [
        "## Perceptron\n",
        "##### └ No bias"
      ],
      "metadata": {
        "id": "LR02HXkn5MUy"
      }
    },
    {
      "cell_type": "code",
      "execution_count": null,
      "metadata": {
        "colab": {
          "base_uri": "https://localhost:8080/"
        },
        "id": "Os8mfkE25HyD",
        "outputId": "83ea983c-8dda-42e7-e8fb-5864546c9575"
      },
      "outputs": [
        {
          "output_type": "stream",
          "name": "stdout",
          "text": [
            "AND(0, 0) = 0\n",
            "AND(0, 1) = 0\n",
            "AND(1, 0) = 0\n",
            "AND(1, 1) = 1\n",
            "\n",
            "NAND(0, 0) = 1\n",
            "NAND(0, 1) = 1\n",
            "NAND(1, 0) = 1\n",
            "NAND(1, 1) = 0\n",
            "\n",
            "OR(0, 0) = 0\n",
            "OR(0, 1) = 1\n",
            "OR(1, 0) = 1\n",
            "OR(1, 1) = 1\n"
          ]
        }
      ],
      "source": [
        "def AND(x1, x2) :\n",
        "  w1, w2, theta = 0.5, 0.5, 0.7\n",
        "  temp = x1 * w1 + x2 * w2\n",
        "  if temp > theta :\n",
        "    return 1\n",
        "  else :\n",
        "    return 0\n",
        "\n",
        "\n",
        "def NAND(x1, x2) :\n",
        "  w1, w2, theta = -0.5, -0.5, -0.7\n",
        "  temp = x1 * w1 + x2 * w2\n",
        "  if temp > theta :\n",
        "    return 1\n",
        "  else :\n",
        "    return 0\n",
        "\n",
        "\n",
        "def OR(x1, x2) :\n",
        "  w1, w2, theta = 0.5, 0.5, 0.2\n",
        "  temp = x1 * w1 + x2 * w2\n",
        "  if temp > theta :\n",
        "    return 1\n",
        "  else :\n",
        "    return 0\n",
        "\n",
        "\n",
        "print('AND(0, 0) = {}'.format(AND(0, 0))) \n",
        "print('AND(0, 1) = {}'.format(AND(0, 1))) \n",
        "print('AND(1, 0) = {}'.format(AND(1, 0))) \n",
        "print('AND(1, 1) = {}'.format(AND(1, 1))) \n",
        "print()\n",
        "print('NAND(0, 0) = {}'.format(NAND(0, 0)))\n",
        "print('NAND(0, 1) = {}'.format(NAND(0, 1)))\n",
        "print('NAND(1, 0) = {}'.format(NAND(1, 0)))\n",
        "print('NAND(1, 1) = {}'.format(NAND(1, 1)))\n",
        "print()\n",
        "print('OR(0, 0) = {}'.format(OR(0, 0)))\n",
        "print('OR(0, 1) = {}'.format(OR(0, 1)))\n",
        "print('OR(1, 0) = {}'.format(OR(1, 0)))\n",
        "print('OR(1, 1) = {}'.format(OR(1, 1)))"
      ]
    },
    {
      "cell_type": "markdown",
      "source": [
        "## Perceptron\n",
        "##### └ With bias"
      ],
      "metadata": {
        "id": "N4Y8DX-37N5E"
      }
    },
    {
      "cell_type": "code",
      "source": [
        "import numpy as np\n",
        "\n",
        "def AND(x1, x2) :\n",
        "  x = np.array([x1, x2])\n",
        "  w = np.array([0.5, 0.5])\n",
        "  b = -0.7\n",
        "  temp = np.sum(x*w) + b\n",
        "  \n",
        "  if temp > 0 :\n",
        "    return 1\n",
        "  else :\n",
        "    return 0\n",
        "\n",
        "\n",
        "  def NAND(x1, x2) :\n",
        "    x = np.array([x1, x2])\n",
        "    w = np.array([-0.5, -0.5])\n",
        "    b = 0.7\n",
        "    temp = np.sum(x*w) + b\n",
        "\n",
        "    if temp > 0 :\n",
        "      return 1\n",
        "    else :\n",
        "      return 0\n",
        "\n",
        "\n",
        "  def OR(x1, x2) :\n",
        "    x = np.array([x1, x2])\n",
        "    w = np.array([0.5, 0.5])\n",
        "    b = -0.2\n",
        "    temp = np.sum(x*w) + b\n",
        "\n",
        "    if temp > 0 :\n",
        "      return 1\n",
        "    else :\n",
        "      return 0\n",
        "\n",
        "\n",
        "print('AND(0, 0) = {}'.format(AND(0, 0))) \n",
        "print('AND(0, 1) = {}'.format(AND(0, 1))) \n",
        "print('AND(1, 0) = {}'.format(AND(1, 0))) \n",
        "print('AND(1, 1) = {}'.format(AND(1, 1))) \n",
        "print()\n",
        "print('NAND(0, 0) = {}'.format(NAND(0, 0)))\n",
        "print('NAND(0, 1) = {}'.format(NAND(0, 1)))\n",
        "print('NAND(1, 0) = {}'.format(NAND(1, 0)))\n",
        "print('NAND(1, 1) = {}'.format(NAND(1, 1)))\n",
        "print()\n",
        "print('OR(0, 0) = {}'.format(OR(0, 0)))\n",
        "print('OR(0, 1) = {}'.format(OR(0, 1)))\n",
        "print('OR(1, 0) = {}'.format(OR(1, 0)))\n",
        "print('OR(1, 1) = {}'.format(OR(1, 1)))"
      ],
      "metadata": {
        "colab": {
          "base_uri": "https://localhost:8080/"
        },
        "id": "JsbMGznc524Z",
        "outputId": "0d0373ef-2e63-47bc-8807-83da0cc5564f"
      },
      "execution_count": null,
      "outputs": [
        {
          "output_type": "stream",
          "name": "stdout",
          "text": [
            "AND(0, 0) = 0\n",
            "AND(0, 1) = 0\n",
            "AND(1, 0) = 0\n",
            "AND(1, 1) = 1\n",
            "\n",
            "NAND(0, 0) = 1\n",
            "NAND(0, 1) = 1\n",
            "NAND(1, 0) = 1\n",
            "NAND(1, 1) = 0\n",
            "\n",
            "OR(0, 0) = 0\n",
            "OR(0, 1) = 1\n",
            "OR(1, 0) = 1\n",
            "OR(1, 1) = 1\n"
          ]
        }
      ]
    },
    {
      "cell_type": "markdown",
      "source": [
        "## XOR Gate with multi Perceptron"
      ],
      "metadata": {
        "id": "AEGebDom8SAL"
      }
    },
    {
      "cell_type": "code",
      "source": [
        "def XOR(x1, x2) :\n",
        "  h1 = NAND(x1, x2)\n",
        "  h2 = OR(x1, x2)\n",
        "  y = AND(h1, h2)\n",
        "  return y\n",
        "\n",
        "\n",
        "print('XOR(0, 0) = {}'.format(XOR(0, 0)))\n",
        "print('XOR(0, 1) = {}'.format(XOR(0, 1)))\n",
        "print('XOR(1, 0) = {}'.format(XOR(1, 0)))\n",
        "print('XOR(1, 1) = {}'.format(XOR(1, 1)))"
      ],
      "metadata": {
        "colab": {
          "base_uri": "https://localhost:8080/"
        },
        "id": "XcsDmbM-7PrW",
        "outputId": "00782993-5eb7-44c7-abe4-11647a912631"
      },
      "execution_count": null,
      "outputs": [
        {
          "output_type": "stream",
          "name": "stdout",
          "text": [
            "XOR(0, 0) = 0\n",
            "XOR(0, 1) = 1\n",
            "XOR(1, 0) = 1\n",
            "XOR(1, 1) = 0\n"
          ]
        }
      ]
    },
    {
      "cell_type": "code",
      "source": [],
      "metadata": {
        "id": "QzCc1rhR9FKl"
      },
      "execution_count": null,
      "outputs": []
    }
  ]
}